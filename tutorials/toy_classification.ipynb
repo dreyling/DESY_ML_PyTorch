{
 "cells": [
  {
   "cell_type": "markdown",
   "metadata": {},
   "source": [
    "### The calculation of the invariant mass from the 4-vectors $p_1,p_2$ and what else is relevant can be learnt by a Neural Network"
   ]
  },
  {
   "cell_type": "code",
   "execution_count": 1,
   "metadata": {},
   "outputs": [],
   "source": [
    "import uproot\n",
    "import matplotlib.pyplot as plt\n",
    "plt.style.use('dark_background')"
   ]
  },
  {
   "cell_type": "code",
   "execution_count": 2,
   "metadata": {},
   "outputs": [
    {
     "data": {
      "text/plain": [
       "['Pt1',\n",
       " 'Eta1',\n",
       " 'Phi1',\n",
       " 'E1',\n",
       " 'Pt2',\n",
       " 'Eta2',\n",
       " 'Phi2',\n",
       " 'E2',\n",
       " 'Px1',\n",
       " 'Py1',\n",
       " 'Pz1',\n",
       " 'Px2',\n",
       " 'Py2',\n",
       " 'Pz2',\n",
       " 'pz',\n",
       " 'mass',\n",
       " 'dphi',\n",
       " 'weight',\n",
       " 'label']"
      ]
     },
     "execution_count": 2,
     "metadata": {},
     "output_type": "execute_result"
    }
   ],
   "source": [
    "# We use uproot https://github.com/scikit-hep/uproot \n",
    "# to read our root file.\n",
    "# Different to numpy_root we do not need a ROOT installation. Uproot knows the ROOT file format\n",
    "# uproot uses dictionaries to access the file content\n",
    "file = uproot.open(\"toy.root\")\n",
    "tree = file[\"tree\"]\n",
    "tree.keys()"
   ]
  },
  {
   "cell_type": "code",
   "execution_count": 3,
   "metadata": {},
   "outputs": [
    {
     "name": "stdout",
     "output_type": "stream",
     "text": [
      "We have 21780 events\n"
     ]
    },
    {
     "data": {
      "image/png": "[encoded data removed]",
      "text/plain": [
       "<Figure size 432x288 with 1 Axes>"
      ]
     },
     "metadata": {},
     "output_type": "display_data"
    },
    {
     "data": {
      "image/png": "[encoded data removed]",
      "text/plain": [
       "<Figure size 432x288 with 1 Axes>"
      ]
     },
     "metadata": {},
     "output_type": "display_data"
    }
   ],
   "source": [
    "# uproot provides an convenient interface to pandas\n",
    "df=tree.pandas.df([\"mass\",\"Pt1\", \"Pz1\", \"E1\",\"Phi1\",\"Eta1\",\"Pt2\", \"Pz2\",\"E2\",\"Phi2\",\"Eta2\",\"label\"])\n",
    "# reduced variables\n",
    "# df=tree.pandas.df([\"mass\",\"Pt1\", \"Pz1\",\"Eta1\",\"Pt2\", \"Pz2\",\"Eta2\",\"label\"])\n",
    "\n",
    "\n",
    "#select physical masses and subsample to make the example faster\n",
    "\n",
    "df=df[df.mass>0]\n",
    "# the file contains the signal first\n",
    "# we reshuffle and take a sub sample to make the example faster\n",
    "# left with about ~22k events\n",
    "df = df.sample(frac=0.25).reset_index(drop=True)\n",
    "df[df.label==1].hist([\"mass\"],bins=100,range=[0,3000])\n",
    "df[df.label==0].hist([\"mass\"],bins=100,range=[0,3000])\n",
    "print 'We have %d events' %len(df)"
   ]
  },
  {
   "cell_type": "code",
   "execution_count": 4,
   "metadata": {},
   "outputs": [
    {
     "name": "stdout",
     "output_type": "stream",
     "text": [
      "0.7801652892561983\n"
     ]
    }
   ],
   "source": [
    "# we cut a mass window\n",
    "# and calculate the acc if we take all\n",
    "# events in the window as signal\n",
    "window  = (df.mass>645) & (df.mass<915)\n",
    "sigWin  = (df[window].label==1).sum()\n",
    "bgrdWin = (df[window].label==0).sum()\n",
    "allSig  = (df.label==1).sum()\n",
    "allBgrd = (df.label==0).sum()\n",
    "trueLabels=sigWin+(allBgrd-bgrdWin)\n",
    "allEvts  =allSig+allBgrd\n",
    "acc=trueLabels/float(allEvts)\n",
    "print acc"
   ]
  },
  {
   "cell_type": "code",
   "execution_count": 9,
   "metadata": {},
   "outputs": [
    {
     "name": "stdout",
     "output_type": "stream",
     "text": [
      "X_train:  <type 'numpy.ndarray'> (14592, 10) float32\n",
      "Y_train:  <type 'numpy.ndarray'> (14592,) int32\n",
      "X_test:  <type 'numpy.ndarray'> (7188, 10) float32\n",
      "Y_test:  <type 'numpy.ndarray'> (7188,) int32\n",
      "We use 14592 for training.\n"
     ]
    }
   ],
   "source": [
    "#!pip install sklearn\n",
    "import numpy as np\n",
    "# sklearn provides a convenient funtion to split our dataset randomly\n",
    "# into training and testing datasets \n",
    "# http://scikit-learn.org/stable/modules/generated/sklearn.model_selection.train_test_split.html\n",
    "from sklearn.model_selection import train_test_split\n",
    "\n",
    "\n",
    "# we want to learn the label signal/background\n",
    "Y=df[\"label\"].values\n",
    "\n",
    "# and take Pt1,Eta1,Phi1,E1,Pt2,Eta2,Phi2,E2 as input features\n",
    "# using the calcuated mass would be to easy\n",
    "\n",
    "X=df.drop([\"mass\",\"label\"],axis=1).values\n",
    "\n",
    "\n",
    "X_train, X_test, Y_train, Y_test = train_test_split(X, Y, test_size=0.33, random_state=42)\n",
    "print 'X_train: ',type(X_train),X_train.shape,X_train.dtype\n",
    "print 'Y_train: ',type(Y_train),Y_train.shape,Y_train.dtype\n",
    "print 'X_test: ',type(X_test),X_test.shape,X_test.dtype\n",
    "print 'Y_test: ',type(Y_test),Y_test.shape,Y_test.dtype\n",
    "print 'We use', len(Y_train),'for training.'"
   ]
  },
  {
   "cell_type": "code",
   "execution_count": 10,
   "metadata": {},
   "outputs": [
    {
     "name": "stdout",
     "output_type": "stream",
     "text": [
      "337.43622 337.43622\n"
     ]
    }
   ],
   "source": [
    "print df['Pt1'][0],X[0,0]"
   ]
  },
  {
   "cell_type": "code",
   "execution_count": 11,
   "metadata": {},
   "outputs": [
    {
     "name": "stdout",
     "output_type": "stream",
     "text": [
      "<type 'numpy.ndarray'> <type 'numpy.ndarray'>\n"
     ]
    }
   ],
   "source": [
    "#move to classification\n",
    "# It is almost always a good idea to normalize the data before training\n",
    "# http://scikit-learn.org/stable/auto_examples/preprocessing/plot_all_scaling.html#sphx-glr-auto-examples-preprocessing-plot-all-scaling-py\n",
    "\n",
    "# Standardize features by removing the mean and scaling to unit variance\n",
    "from sklearn.preprocessing import StandardScaler\n",
    "\n",
    "# we keep the origina data untouched and create a scaled copy\n",
    "scaler = StandardScaler(copy=True) \n",
    "\n",
    "# we normalize our data\n",
    "X_scaled_train = scaler.fit_transform(X_train)\n",
    "# aplly the same transformation to the test sample\n",
    "X_scaled_test  = scaler.transform(X_test)\n",
    "print type(X_scaled_train ),type(X_train)"
   ]
  },
  {
   "cell_type": "code",
   "execution_count": 12,
   "metadata": {},
   "outputs": [
    {
     "data": {
      "image/png": "[encoded data removed]",
      "text/plain": [
       "<Figure size 432x288 with 2 Axes>"
      ]
     },
     "metadata": {},
     "output_type": "display_data"
    }
   ],
   "source": [
    "#to show the scaling\n",
    "pt1        = X_train[:,0]\n",
    "pt1_scaled = X_scaled_train[:,0]\n",
    "\n",
    "plt.subplot(121)\n",
    "plt.title('Pt1')\n",
    "plt.grid(True)\n",
    "#plt.yscale('log')\n",
    "plt.hist(pt1,bins=100)\n",
    "plt.subplot(122)\n",
    "plt.title('Pt1 - scaled')\n",
    "plt.grid(True)\n",
    "#plt.yscale('log')\n",
    "plt.hist(pt1_scaled,bins=100)\n",
    "plt.show()"
   ]
  },
  {
   "cell_type": "code",
   "execution_count": 13,
   "metadata": {},
   "outputs": [
    {
     "name": "stdout",
     "output_type": "stream",
     "text": [
      "325.85886 -4.3077425e-06\n",
      "3890.0723 1.0000046\n"
     ]
    }
   ],
   "source": [
    "print X_train[:,0].mean(),X_scaled_train[:,0].mean()\n",
    "print X_train[:,0].var(),X_scaled_train[:,0].var()"
   ]
  },
  {
   "cell_type": "code",
   "execution_count": 14,
   "metadata": {},
   "outputs": [
    {
     "name": "stdout",
     "output_type": "stream",
     "text": [
      "8268 signal events 6324 background events 14592\n"
     ]
    }
   ],
   "source": [
    "print Y_train.sum(),'signal events',(Y_train==0).sum(),'background events',len(Y_train)"
   ]
  },
  {
   "cell_type": "markdown",
   "metadata": {},
   "source": [
    "### We build our NN"
   ]
  },
  {
   "cell_type": "code",
   "execution_count": 17,
   "metadata": {},
   "outputs": [
    {
     "name": "stdout",
     "output_type": "stream",
     "text": [
      "Number of features 10\n",
      "Epoch    0 (0.173 s tot: 0.173 s) av. loss train: 0.507 - lost test 0.294\n"
     ]
    },
    {
     "name": "stderr",
     "output_type": "stream",
     "text": [
      "/home/ubuntu/anaconda3/envs/pytorch_p27/lib/python2.7/site-packages/torch/nn/functional.py:1474: UserWarning: Using a target size (torch.Size([7188])) that is different to the input size (torch.Size([7188, 1])) is deprecated. Please ensure they have the same size.\n",
      "  \"Please ensure they have the same size.\".format(target.size(), input.size()))\n"
     ]
    },
    {
     "name": "stdout",
     "output_type": "stream",
     "text": [
      "Epoch    1 (0.228 s tot: 0.402 s) av. loss train: 0.204 - lost test 0.153\n",
      "Epoch    2 (0.235 s tot: 0.637 s) av. loss train: 0.131 - lost test 0.114\n",
      "Epoch    3 (0.168 s tot: 0.806 s) av. loss train: 0.108 - lost test 0.097\n",
      "Epoch    4 (0.224 s tot: 1.030 s) av. loss train: 0.094 - lost test 0.088\n",
      "Epoch    5 (0.263 s tot: 1.294 s) av. loss train: 0.084 - lost test 0.082\n",
      "Epoch    6 (0.168 s tot: 1.462 s) av. loss train: 0.078 - lost test 0.078\n",
      "Epoch    7 (0.170 s tot: 1.632 s) av. loss train: 0.073 - lost test 0.074\n",
      "Epoch    8 (0.167 s tot: 1.800 s) av. loss train: 0.070 - lost test 0.070\n",
      "Epoch    9 (0.173 s tot: 1.973 s) av. loss train: 0.064 - lost test 0.067\n",
      "Epoch   10 (0.174 s tot: 2.147 s) av. loss train: 0.061 - lost test 0.064\n",
      "Epoch   11 (0.266 s tot: 2.414 s) av. loss train: 0.056 - lost test 0.062\n",
      "Epoch   12 (0.276 s tot: 2.691 s) av. loss train: 0.055 - lost test 0.058\n",
      "Epoch   13 (0.168 s tot: 2.859 s) av. loss train: 0.051 - lost test 0.056\n",
      "Epoch   14 (0.170 s tot: 3.029 s) av. loss train: 0.050 - lost test 0.060\n",
      "Epoch   15 (0.167 s tot: 3.197 s) av. loss train: 0.048 - lost test 0.055\n",
      "Epoch   16 (0.237 s tot: 3.434 s) av. loss train: 0.047 - lost test 0.057\n",
      "Epoch   17 (0.220 s tot: 3.655 s) av. loss train: 0.046 - lost test 0.052\n",
      "Epoch   18 (0.168 s tot: 3.823 s) av. loss train: 0.044 - lost test 0.055\n",
      "Epoch   19 (0.193 s tot: 4.016 s) av. loss train: 0.044 - lost test 0.056\n",
      "Epoch   20 (0.225 s tot: 4.242 s) av. loss train: 0.044 - lost test 0.050\n",
      "Epoch   21 (0.168 s tot: 4.411 s) av. loss train: 0.042 - lost test 0.053\n",
      "Epoch   22 (0.256 s tot: 4.667 s) av. loss train: 0.042 - lost test 0.057\n",
      "Epoch   23 (0.235 s tot: 4.902 s) av. loss train: 0.041 - lost test 0.048\n",
      "Epoch   24 (0.168 s tot: 5.071 s) av. loss train: 0.039 - lost test 0.053\n",
      "Epoch   25 (0.170 s tot: 5.241 s) av. loss train: 0.039 - lost test 0.053\n",
      "Epoch   26 (0.203 s tot: 5.444 s) av. loss train: 0.038 - lost test 0.048\n",
      "Epoch   27 (0.267 s tot: 5.712 s) av. loss train: 0.038 - lost test 0.045\n",
      "Epoch   28 (0.168 s tot: 5.881 s) av. loss train: 0.036 - lost test 0.048\n",
      "Epoch   29 (0.170 s tot: 6.052 s) av. loss train: 0.037 - lost test 0.045\n",
      "Epoch   30 (0.168 s tot: 6.220 s) av. loss train: 0.035 - lost test 0.044\n",
      "Epoch   31 (0.237 s tot: 6.457 s) av. loss train: 0.036 - lost test 0.048\n",
      "Epoch   32 (0.271 s tot: 6.728 s) av. loss train: 0.034 - lost test 0.049\n",
      "Epoch   33 (0.274 s tot: 7.004 s) av. loss train: 0.035 - lost test 0.049\n",
      "Epoch   34 (0.218 s tot: 7.222 s) av. loss train: 0.033 - lost test 0.045\n",
      "Epoch   35 (0.169 s tot: 7.391 s) av. loss train: 0.034 - lost test 0.043\n",
      "Epoch   36 (0.170 s tot: 7.562 s) av. loss train: 0.033 - lost test 0.049\n",
      "Epoch   37 (0.225 s tot: 7.788 s) av. loss train: 0.033 - lost test 0.040\n",
      "Epoch   38 (0.168 s tot: 7.956 s) av. loss train: 0.031 - lost test 0.042\n",
      "Epoch   39 (0.170 s tot: 8.126 s) av. loss train: 0.032 - lost test 0.044\n",
      "Epoch   40 (0.225 s tot: 8.352 s) av. loss train: 0.031 - lost test 0.044\n",
      "Epoch   41 (0.169 s tot: 8.521 s) av. loss train: 0.031 - lost test 0.043\n",
      "Epoch   42 (0.170 s tot: 8.691 s) av. loss train: 0.030 - lost test 0.042\n",
      "Epoch   43 (0.308 s tot: 8.999 s) av. loss train: 0.030 - lost test 0.042\n",
      "Epoch   44 (0.205 s tot: 9.204 s) av. loss train: 0.029 - lost test 0.043\n",
      "Epoch   45 (0.168 s tot: 9.373 s) av. loss train: 0.030 - lost test 0.043\n",
      "Epoch   46 (0.242 s tot: 9.615 s) av. loss train: 0.029 - lost test 0.043\n",
      "Epoch   47 (0.189 s tot: 9.805 s) av. loss train: 0.028 - lost test 0.042\n",
      "Epoch   48 (0.169 s tot: 9.974 s) av. loss train: 0.028 - lost test 0.042\n",
      "Epoch   49 (0.259 s tot: 10.233 s) av. loss train: 0.028 - lost test 0.040\n"
     ]
    }
   ],
   "source": [
    "import torch\n",
    "from time import time\n",
    "\n",
    "dtype  = torch.float\n",
    "device = torch.device(\"cpu\")\n",
    "#device = torch.device(\"cuda:0\") # Uncomment this to run on GPU\n",
    "\n",
    "\n",
    "# pyTorchViz is a little tool to visualize pyTorch's execution graph\n",
    "# https://github.com/szagoruyko/pytorchviz\n",
    "from torchviz import make_dot\n",
    "\n",
    "# to keep things simple\n",
    "# D_in is input dimension;\n",
    "# H is hidden dimension; D_out is output dimension.\n",
    "\n",
    "D_in, H, D_out = X.shape[1], 10, 1\n",
    "print 'Number of features',D_in\n",
    "\n",
    "# Create input and output torch tensors from previous numpy array\n",
    "# with respect to these Tensors during the backward pass.\n",
    "x_train = torch.from_numpy(X_scaled_train).float().to(device)\n",
    "y_train = torch.from_numpy(Y_train).float().to(device)\n",
    "x_test  = torch.from_numpy(X_scaled_test).float().to(device)\n",
    "y_test  = torch.from_numpy(Y_test).float().to(device)\n",
    "\n",
    "\n",
    "# Use the nn package to define our model and loss function.\n",
    "model = torch.nn.Sequential(\n",
    "    torch.nn.Linear(D_in, H),\n",
    "    torch.nn.ReLU(),\n",
    "    torch.nn.Linear(H, D_out),\n",
    "    torch.nn.Sigmoid()\n",
    ")\n",
    "model.to(device)\n",
    "#loss_fn = torch.nn.BCELoss(reduction='elementwise_mean')\n",
    "loss_fn = torch.nn.BCELoss()\n",
    "\n",
    "\n",
    "# Use the optim package to define an Optimizer that will update the weights of\n",
    "# the model for us. Here we will use Adam; the optim package contains many other\n",
    "# optimization algoriths. The first argument to the Adam constructor tells the\n",
    "# optimizer which Tensors it should update.\n",
    "learning_rate = 0.008\n",
    "optimizer = torch.optim.Adam(model.parameters(), lr=learning_rate,amsgrad=False)\n",
    "\n",
    "\n",
    "L=[]\n",
    "\n",
    "n_steps=50\n",
    "batch_size = 128\n",
    "\n",
    "import torch.utils.data\n",
    "dataset      = torch.utils.data.TensorDataset(x_train, y_train)\n",
    "data_loader  = torch.utils.data.DataLoader(dataset, batch_size=batch_size, shuffle = True)\n",
    "n_inner=float(len(data_loader))\n",
    "\n",
    "t0=time()\n",
    "for epoch in range(n_steps):\n",
    "    av_loss=0\n",
    "    step=0\n",
    "    t = time()\n",
    "    for x,y in data_loader:\n",
    "        x = x.to(device)\n",
    "        y = y.to(device)\n",
    "        \n",
    "        # Forward pass: compute predicted y by passing x to the model.\n",
    "        #y_pred = model(x).reshape(len(y))\n",
    "        y_pred = model(x)#.flatten()\n",
    "        # Compute and print loss.\n",
    "        loss = loss_fn(y_pred, y)\n",
    "\n",
    "        with torch.no_grad():\n",
    "            av_loss+=loss.item()\n",
    "\n",
    "        # Before the backward pass, use the optimizer object to zero all of the\n",
    "        # gradients for the variables it will update (which are the learnable\n",
    "        # weights of the model). This is because by default, gradients are\n",
    "        # accumulated in buffers( i.e, not overwritten) whenever .backward()\n",
    "        # is called. Checkout docs of torch.autograd.backward for more details.\n",
    "        optimizer.zero_grad()\n",
    "\n",
    "        # Backward pass: compute gradient of the loss with respect to model\n",
    "        # parameters\n",
    "        loss.backward()\n",
    "\n",
    "        # Calling the step function on an Optimizer makes an update to its\n",
    "        # parameters\n",
    "        optimizer.step()\n",
    "    \n",
    "    with torch.no_grad():\n",
    "        #loss_train = loss_fn(model(x_train).flatten(),y_train).item()\n",
    "        av_loss/=n_inner # to gain some sensitivy to the inner loop\n",
    "        #loss_test  = loss_fn(model(x_test).flatten(), y_test).item()\n",
    "        loss_test  = loss_fn(model(x_test), y_test).item()\n",
    "    #torch.cuda.synchronize()\n",
    "    dt  = time()-t\n",
    "    tot = time()-t0\n",
    "    print \"Epoch %4d (%0.3f s tot: %0.3f s) av. loss train: %0.3f - lost test %0.3f\" \\\n",
    "    % (epoch, dt, tot, av_loss, loss_test)\n",
    "    L.append([av_loss,loss_test])\n",
    "\n"
   ]
  },
  {
   "cell_type": "code",
   "execution_count": 18,
   "metadata": {},
   "outputs": [
    {
     "data": {
      "image/png": "[encoded data removed]",
      "text/plain": [
       "<Figure size 432x288 with 1 Axes>"
      ]
     },
     "metadata": {},
     "output_type": "display_data"
    },
    {
     "name": "stdout",
     "output_type": "stream",
     "text": [
      "Sequential(\n",
      "  (0): Linear(in_features=10, out_features=10, bias=True)\n",
      "  (1): ReLU()\n",
      "  (2): Linear(in_features=10, out_features=1, bias=True)\n",
      "  (3): Sigmoid()\n",
      ")\n"
     ]
    }
   ],
   "source": [
    "# we plot the learning curve\n",
    "Xaxis = np.arange(0,len(L))\n",
    "plt.title('loss eveolution')\n",
    "lns=plt.plot(Xaxis,L)\n",
    "plt.legend(lns, ('train', 'test')) \n",
    "plt.xlabel('epochs')\n",
    "plt.ylabel('BCEloss/evt')\n",
    "#plt.yscale('log')\n",
    "plt.show()\n",
    "\n",
    "#visualize the network\n",
    "#out\n",
    "print model\n",
    "#Plot without loss: make_dot(model(x), params=dict(model.named_parameters()))\n",
    "#make_dot(loss,params=dict(model.named_parameters()))"
   ]
  },
  {
   "cell_type": "markdown",
   "metadata": {},
   "source": [
    "### We note that the loss becomes flat and the test error is above the train error"
   ]
  },
  {
   "cell_type": "code",
   "execution_count": 19,
   "metadata": {},
   "outputs": [
    {
     "data": {
      "image/png": "[encoded data removed]",
      "text/plain": [
       "<Figure size 432x288 with 1 Axes>"
      ]
     },
     "metadata": {},
     "output_type": "display_data"
    }
   ],
   "source": [
    "# apply learned\n",
    "# get everything back to cpu\n",
    "model.cpu()\n",
    "\n",
    "x_test=x_test.cpu()\n",
    "y_test=y_test.cpu()\n",
    "\n",
    "y_pred = model(x_test).detach().numpy()\n",
    "y_true = y_test.numpy()\n",
    "\n",
    "plt.title('classifier')\n",
    "#plt.grid(False)\n",
    "plt.yscale('log')\n",
    "plt.hist(y_pred[y_true==1],bins=100,range=[0,1],label='signal')\n",
    "plt.hist(y_pred[y_true==0],bins=100,range=[0,1],label='backgrd')\n",
    "plt.legend()\n",
    "plt.xlabel('classifier output')\n",
    "plt.show()"
   ]
  },
  {
   "cell_type": "markdown",
   "metadata": {},
   "source": [
    "### It seems that the separation works extremly good"
   ]
  },
  {
   "cell_type": "code",
   "execution_count": 20,
   "metadata": {},
   "outputs": [
    {
     "name": "stdout",
     "output_type": "stream",
     "text": [
      "0.9912353923205343 0.9902316406029348\n"
     ]
    }
   ],
   "source": [
    "# the quality of the classifier can be checked by standard scores like\n",
    "# like accuracy and auc (area under the receiver operator curve, \n",
    "# i.e. true positive over false positive)\n",
    "# sklearn provides many useful tools for this\n",
    "\n",
    "from sklearn.metrics import accuracy_score,roc_curve,roc_auc_score\n",
    "acc = accuracy_score(y_true, y_pred>0.5, normalize=True)\n",
    "auc = roc_auc_score(y_true, y_pred>0.5)\n",
    "print acc,auc"
   ]
  },
  {
   "cell_type": "code",
   "execution_count": 21,
   "metadata": {},
   "outputs": [
    {
     "data": {
      "image/png": "[encoded data removed]",
      "text/plain": [
       "<Figure size 432x288 with 1 Axes>"
      ]
     },
     "metadata": {},
     "output_type": "display_data"
    }
   ],
   "source": [
    "# test on all\n",
    "X_scaled_all  = scaler.transform(X)\n",
    "Y_all = Y\n",
    "Y_pred = model(torch.tensor(X_scaled_all)).detach().numpy()\n",
    "\n",
    "#add columns to df\n",
    "df['y_pred']= Y_pred\n",
    "\n",
    "# we plot the invariant mass for the events that are selected as signal/background \n",
    "# by our NN classifier\n",
    "df[df.y_pred<0.5].mass.plot.hist(bins=100,range=[0,3000],label='pred. bgrd.')\n",
    "df[df.y_pred>0.5].mass.plot.hist(bins=100,range=[0,3000],label='pred. sig.')\n",
    "plt.legend()\n",
    "plt.show()"
   ]
  },
  {
   "cell_type": "markdown",
   "metadata": {},
   "source": [
    "### What give the seperation?"
   ]
  },
  {
   "cell_type": "code",
   "execution_count": 23,
   "metadata": {},
   "outputs": [
    {
     "name": "stdout",
     "output_type": "stream",
     "text": [
      "acc w/o   Pt1 0.8303\n",
      "acc w/o   Pz1 0.5538\n",
      "acc w/o    E1 0.9509\n",
      "acc w/o  Phi1 0.9905\n",
      "acc w/o  Eta1 0.5449\n",
      "acc w/o   Pt2 0.8245\n",
      "acc w/o   Pz2 0.5800\n",
      "acc w/o    E2 0.9668\n",
      "acc w/o  Phi2 0.9907\n",
      "acc w/o  Eta2 0.5730\n"
     ]
    }
   ],
   "source": [
    "# we replace one column after the other by its reshuffled version\n",
    "# with the help of a random index and evaluate the model \n",
    "# on the 1-bin-reshuffled data and print the accuracy\n",
    "\n",
    "# the variable names\n",
    "names=df.keys()[1:11]\n",
    "\n",
    "xall=torch.tensor(X_scaled_all)\n",
    "\n",
    "# an index to randomize\n",
    "idx=np.random.permutation(X_scaled_all.shape[0])\n",
    "\n",
    "# for our 10 parameters that runs from 0..9\n",
    "for i in range(X_scaled_all.shape[1]): \n",
    "    #replace one column by its permutation\n",
    "    xall[:,i]=xall[idx,i]\n",
    "    Y_pred = model(xall).detach().numpy()\n",
    "    acc = accuracy_score(Y_all, Y_pred>0.5, normalize=True)\n",
    "    print 'acc w/o %5s %0.4f'%(names[i],acc)\n",
    "    #reestablish the old order\n",
    "    xall[:,i]=torch.tensor(X_scaled_all[:,i])\n"
   ]
  },
  {
   "cell_type": "markdown",
   "metadata": {},
   "source": [
    "### Try to reduce the number of variables and see how big the influence on the accuracy is"
   ]
  },
  {
   "cell_type": "code",
   "execution_count": null,
   "metadata": {},
   "outputs": [],
   "source": []
  }
 ],
 "metadata": {
  "kernelspec": {
   "display_name": "Environment (conda_pytorch_p27)",
   "language": "python",
   "name": "conda_pytorch_p27"
  },
  "language_info": {
   "codemirror_mode": {
    "name": "ipython",
    "version": 2
   },
   "file_extension": ".py",
   "mimetype": "text/x-python",
   "name": "python",
   "nbconvert_exporter": "python",
   "pygments_lexer": "ipython2",
   "version": "2.7.15"
  }
 },
 "nbformat": 4,
 "nbformat_minor": 2
}
