{
 "cells": [
  {
   "cell_type": "code",
   "execution_count": 1,
   "metadata": {
    "collapsed": false
   },
   "outputs": [],
   "source": [
    "%matplotlib inline"
   ]
  },
  {
   "cell_type": "markdown",
   "metadata": {},
   "source": [
    "\n",
    "Autograd: Automatic Differentiation\n",
    "===================================\n",
    "\n",
    "Central to all neural networks in PyTorch is the ``autograd`` package.\n",
    "Let’s first briefly visit this, and we will then go to training our\n",
    "first neural network.\n",
    "\n",
    "\n",
    "The ``autograd`` package provides automatic differentiation for all operations\n",
    "on Tensors. It is a define-by-run framework, which means that your backprop is\n",
    "defined by how your code is run, and that every single iteration can be\n",
    "different.\n",
    "\n",
    "Let us see this in more simple terms with some examples.\n",
    "\n",
    "Tensor\n",
    "--------\n",
    "\n",
    "``torch.Tensor`` is the central class of the package. If you set its attribute\n",
    "``.requires_grad`` as ``True``, it starts to track all operations on it. When\n",
    "you finish your computation you can call ``.backward()`` and have all the\n",
    "gradients computed automatically. The gradient for this tensor will be\n",
    "accumulated into ``.grad`` attribute.\n",
    "\n",
    "To stop a tensor from tracking history, you can call ``.detach()`` to detach\n",
    "it from the computation history, and to prevent future computation from being\n",
    "tracked.\n",
    "\n",
    "To prevent tracking history (and using memory), you can also wrap the code block\n",
    "in ``with torch.no_grad():``. This can be particularly helpful when evaluating a\n",
    "model because the model may have trainable parameters with `requires_grad=True`,\n",
    "but for which we don't need the gradients.\n",
    "\n",
    "There’s one more class which is very important for autograd\n",
    "implementation - a ``Function``.\n",
    "\n",
    "``Tensor`` and ``Function`` are interconnected and build up an acyclic\n",
    "graph, that encodes a complete history of computation. Each tensor has\n",
    "a ``.grad_fn`` attribute that references a ``Function`` that has created\n",
    "the ``Tensor`` (except for Tensors created by the user - their\n",
    "``grad_fn is None``).\n",
    "\n",
    "If you want to compute the derivatives, you can call ``.backward()`` on\n",
    "a ``Tensor``. If ``Tensor`` is a scalar (i.e. it holds a one element\n",
    "data), you don’t need to specify any arguments to ``backward()``,\n",
    "however if it has more elements, you need to specify a ``gradient``\n",
    "argument that is a tensor of matching shape.\n",
    "\n"
   ]
  },
  {
   "cell_type": "code",
   "execution_count": 2,
   "metadata": {
    "collapsed": false
   },
   "outputs": [],
   "source": [
    "import torch"
   ]
  },
  {
   "cell_type": "markdown",
   "metadata": {},
   "source": [
    "Create a tensor and set requires_grad=True to track computation with it\n",
    "\n"
   ]
  },
  {
   "cell_type": "code",
   "execution_count": 3,
   "metadata": {
    "collapsed": false
   },
   "outputs": [
    {
     "name": "stdout",
     "output_type": "stream",
     "text": [
      "tensor([[ 1.,  1.],\n",
      "        [ 1.,  1.]])\n"
     ]
    }
   ],
   "source": [
    "x = torch.ones(2, 2, requires_grad=True)\n",
    "print(x)"
   ]
  },
  {
   "cell_type": "markdown",
   "metadata": {},
   "source": [
    "Do an operation of tensor:\n",
    "\n"
   ]
  },
  {
   "cell_type": "code",
   "execution_count": 4,
   "metadata": {
    "collapsed": false
   },
   "outputs": [
    {
     "name": "stdout",
     "output_type": "stream",
     "text": [
      "tensor([[ 3.,  3.],\n",
      "        [ 3.,  3.]])\n"
     ]
    }
   ],
   "source": [
    "y = x + 2\n",
    "print(y)"
   ]
  },
  {
   "cell_type": "markdown",
   "metadata": {},
   "source": [
    "``y`` was created as a result of an operation, so it has a ``grad_fn``.\n",
    "\n"
   ]
  },
  {
   "cell_type": "code",
   "execution_count": 5,
   "metadata": {
    "collapsed": false
   },
   "outputs": [
    {
     "name": "stdout",
     "output_type": "stream",
     "text": [
      "<AddBackward0 object at 0x7ff9f70c30d0>\n"
     ]
    }
   ],
   "source": [
    "print(y.grad_fn)"
   ]
  },
  {
   "cell_type": "markdown",
   "metadata": {},
   "source": [
    "Do more operations on y\n",
    "\n"
   ]
  },
  {
   "cell_type": "code",
   "execution_count": 6,
   "metadata": {
    "collapsed": false
   },
   "outputs": [
    {
     "name": "stdout",
     "output_type": "stream",
     "text": [
      "(tensor([[ 27.,  27.],\n",
      "        [ 27.,  27.]]), tensor(27.))\n",
      "(tensor([[ 1.,  1.],\n",
      "        [ 1.,  1.]]), tensor(27.))\n"
     ]
    }
   ],
   "source": [
    "z = y * y * 3\n",
    "out = z.mean()\n",
    "q=x**2\n",
    "print(z, out)\n",
    "print(q, out)"
   ]
  },
  {
   "cell_type": "markdown",
   "metadata": {},
   "source": [
    "``.requires_grad_( ... )`` changes an existing Tensor's ``requires_grad``\n",
    "flag in-place. The input flag defaults to ``False`` if not given.\n",
    "\n"
   ]
  },
  {
   "cell_type": "code",
   "execution_count": 7,
   "metadata": {
    "collapsed": false
   },
   "outputs": [
    {
     "name": "stdout",
     "output_type": "stream",
     "text": [
      "False\n",
      "True\n",
      "<SumBackward0 object at 0x7ffa5829fa90>\n"
     ]
    }
   ],
   "source": [
    "a = torch.randn(2, 2)\n",
    "a = ((a * 3) / (a - 1))\n",
    "print(a.requires_grad)\n",
    "a.requires_grad_(True)\n",
    "print(a.requires_grad)\n",
    "b = (a * a).sum()\n",
    "print(b.grad_fn)"
   ]
  },
  {
   "cell_type": "markdown",
   "metadata": {},
   "source": [
    "### We use a little tool to draw the list of operation on the computation graph\n",
    "\n",
    "https://github.com/szagoruyko/pytorchviz\n",
    "\n",
    "It produces Graphviz representation of PyTorch autograd graph.\n",
    "* Blue nodes are the Variables that require grad, \n",
    "* orange are Tensors saved for backward in torch.autograd.Function\n",
    "    Args:\n",
    "        var: output Variable\n",
    "        params: dict of (name, Variable) to add names to node that require grad\n"
   ]
  },
  {
   "cell_type": "code",
   "execution_count": 8,
   "metadata": {},
   "outputs": [
    {
     "name": "stdout",
     "output_type": "stream",
     "text": [
      "Collecting git+https://github.com/szagoruyko/pytorchviz\n",
      "  Cloning https://github.com/szagoruyko/pytorchviz to /tmp/pip-req-build-VGCcX9\n",
      "Requirement already satisfied: torch in /home/ubuntu/anaconda3/envs/pytorch_p27/lib/python2.7/site-packages (from pytorchviz==0.0.1) (0.4.0)\n",
      "Collecting graphviz (from pytorchviz==0.0.1)\n",
      "  Downloading https://files.pythonhosted.org/packages/a1/33/a0d49e007ce2f55954eb5d2058817af18f4e22ea69142880e1c46d32c37b/graphviz-0.10-py2.py3-none-any.whl\n",
      "Building wheels for collected packages: pytorchviz\n",
      "  Running setup.py bdist_wheel for pytorchviz ... \u001b[?25ldone\n",
      "\u001b[?25h  Stored in directory: /tmp/pip-ephem-wheel-cache-rvfPxZ/wheels/b9/b9/85/ef34936f58754cb23840fd869be1367b5d525e29915a2a4fe9\n",
      "Successfully built pytorchviz\n",
      "\u001b[31mmkl-random 1.0.1 requires cython, which is not installed.\u001b[0m\n",
      "\u001b[31mmkl-fft 1.0.0 requires cython, which is not installed.\u001b[0m\n",
      "Installing collected packages: graphviz, pytorchviz\n",
      "Successfully installed graphviz-0.10 pytorchviz-0.0.1\n",
      "\u001b[33mYou are using pip version 10.0.1, however version 18.1 is available.\n",
      "You should consider upgrading via the 'pip install --upgrade pip' command.\u001b[0m\n"
     ]
    }
   ],
   "source": [
    "!pip install git+https://github.com/szagoruyko/pytorchviz"
   ]
  },
  {
   "cell_type": "code",
   "execution_count": 15,
   "metadata": {},
   "outputs": [
    {
     "data": {
      "image/svg+xml": [
       "<?xml version=\"1.0\" encoding=\"UTF-8\" standalone=\"no\"?>\n",
       "<!DOCTYPE svg PUBLIC \"-//W3C//DTD SVG 1.1//EN\"\n",
       " \"http://www.w3.org/Graphics/SVG/1.1/DTD/svg11.dtd\">\n",
       "<!-- Generated by graphviz version 2.38.0 (20140413.2041)\n",
       " -->\n",
       "<!-- Title: %3 Pages: 1 -->\n",
       "<svg width=\"106pt\" height=\"271pt\"\n",
       " viewBox=\"0.00 0.00 106.00 271.00\" xmlns=\"http://www.w3.org/2000/svg\" xmlns:xlink=\"http://www.w3.org/1999/xlink\">\n",
       "<g id=\"graph0\" class=\"graph\" transform=\"scale(1 1) rotate(0) translate(4 267)\">\n",
       "<title>%3</title>\n",
       "<polygon fill=\"white\" stroke=\"none\" points=\"-4,4 -4,-267 102,-267 102,4 -4,4\"/>\n",
       "<!-- 140711559376080 -->\n",
       "<g id=\"node1\" class=\"node\"><title>140711559376080</title>\n",
       "<polygon fill=\"#caff70\" stroke=\"black\" points=\"98,-21 0,-21 0,-0 98,-0 98,-21\"/>\n",
       "<text text-anchor=\"middle\" x=\"49\" y=\"-7.4\" font-family=\"Times,serif\" font-size=\"12.00\">MeanBackward1</text>\n",
       "</g>\n",
       "<!-- 140711559376336 -->\n",
       "<g id=\"node2\" class=\"node\"><title>140711559376336</title>\n",
       "<polygon fill=\"lightgrey\" stroke=\"black\" points=\"94.5,-78 3.5,-78 3.5,-57 94.5,-57 94.5,-78\"/>\n",
       "<text text-anchor=\"middle\" x=\"49\" y=\"-64.4\" font-family=\"Times,serif\" font-size=\"12.00\">MulBackward0</text>\n",
       "</g>\n",
       "<!-- 140711559376336&#45;&gt;140711559376080 -->\n",
       "<g id=\"edge1\" class=\"edge\"><title>140711559376336&#45;&gt;140711559376080</title>\n",
       "<path fill=\"none\" stroke=\"black\" d=\"M49,-56.9197C49,-49.9083 49,-40.1442 49,-31.4652\"/>\n",
       "<polygon fill=\"black\" stroke=\"black\" points=\"52.5001,-31.3408 49,-21.3408 45.5001,-31.3409 52.5001,-31.3408\"/>\n",
       "</g>\n",
       "<!-- 140711559376400 -->\n",
       "<g id=\"node3\" class=\"node\"><title>140711559376400</title>\n",
       "<polygon fill=\"lightgrey\" stroke=\"black\" points=\"94.5,-135 3.5,-135 3.5,-114 94.5,-114 94.5,-135\"/>\n",
       "<text text-anchor=\"middle\" x=\"49\" y=\"-121.4\" font-family=\"Times,serif\" font-size=\"12.00\">MulBackward1</text>\n",
       "</g>\n",
       "<!-- 140711559376400&#45;&gt;140711559376336 -->\n",
       "<g id=\"edge2\" class=\"edge\"><title>140711559376400&#45;&gt;140711559376336</title>\n",
       "<path fill=\"none\" stroke=\"black\" d=\"M49,-113.92C49,-106.908 49,-97.1442 49,-88.4652\"/>\n",
       "<polygon fill=\"black\" stroke=\"black\" points=\"52.5001,-88.3408 49,-78.3408 45.5001,-88.3409 52.5001,-88.3408\"/>\n",
       "</g>\n",
       "<!-- 140711559376592 -->\n",
       "<g id=\"node4\" class=\"node\"><title>140711559376592</title>\n",
       "<polygon fill=\"lightgrey\" stroke=\"black\" points=\"95,-192 3,-192 3,-171 95,-171 95,-192\"/>\n",
       "<text text-anchor=\"middle\" x=\"49\" y=\"-178.4\" font-family=\"Times,serif\" font-size=\"12.00\">AddBackward0</text>\n",
       "</g>\n",
       "<!-- 140711559376592&#45;&gt;140711559376400 -->\n",
       "<g id=\"edge3\" class=\"edge\"><title>140711559376592&#45;&gt;140711559376400</title>\n",
       "<path fill=\"none\" stroke=\"black\" d=\"M43.7332,-170.92C42.3546,-163.908 41.9371,-154.144 42.4804,-145.465\"/>\n",
       "<polygon fill=\"black\" stroke=\"black\" points=\"45.979,-145.684 43.6826,-135.341 39.0278,-144.858 45.979,-145.684\"/>\n",
       "</g>\n",
       "<!-- 140711559376592&#45;&gt;140711559376400 -->\n",
       "<g id=\"edge5\" class=\"edge\"><title>140711559376592&#45;&gt;140711559376400</title>\n",
       "<path fill=\"none\" stroke=\"black\" d=\"M54.2668,-170.92C55.6454,-163.908 56.0629,-154.144 55.5196,-145.465\"/>\n",
       "<polygon fill=\"black\" stroke=\"black\" points=\"58.9722,-144.858 54.3174,-135.341 52.021,-145.684 58.9722,-144.858\"/>\n",
       "</g>\n",
       "<!-- 140711559374352 -->\n",
       "<g id=\"node5\" class=\"node\"><title>140711559374352</title>\n",
       "<polygon fill=\"lightblue\" stroke=\"black\" points=\"76,-263 22,-263 22,-228 76,-228 76,-263\"/>\n",
       "<text text-anchor=\"middle\" x=\"49\" y=\"-235.4\" font-family=\"Times,serif\" font-size=\"12.00\"> (2, 2)</text>\n",
       "</g>\n",
       "<!-- 140711559374352&#45;&gt;140711559376592 -->\n",
       "<g id=\"edge4\" class=\"edge\"><title>140711559374352&#45;&gt;140711559376592</title>\n",
       "<path fill=\"none\" stroke=\"black\" d=\"M49,-227.885C49,-219.994 49,-210.505 49,-202.248\"/>\n",
       "<polygon fill=\"black\" stroke=\"black\" points=\"52.5001,-202.018 49,-192.018 45.5001,-202.018 52.5001,-202.018\"/>\n",
       "</g>\n",
       "</g>\n",
       "</svg>\n"
      ],
      "text/plain": [
       "<graphviz.dot.Digraph at 0x7ff9f6832950>"
      ]
     },
     "execution_count": 15,
     "metadata": {},
     "output_type": "execute_result"
    }
   ],
   "source": [
    "from torchviz import make_dot\n",
    "# we neglect the parameter here which defines the names\n",
    "# the tool is meant for ploting models\n",
    "make_dot(out) "
   ]
  },
  {
   "cell_type": "markdown",
   "metadata": {},
   "source": [
    "Gradients\n",
    "---------\n",
    "Let's backprop now\n",
    "Because ``out`` contains a single scalar, ``out.backward()`` is\n",
    "equivalent to ``out.backward(torch.tensor(1))``.\n",
    "\n"
   ]
  },
  {
   "cell_type": "code",
   "execution_count": 16,
   "metadata": {
    "collapsed": false
   },
   "outputs": [
    {
     "ename": "RuntimeError",
     "evalue": "Trying to backward through the graph a second time, but the buffers have already been freed. Specify retain_graph=True when calling backward the first time.",
     "output_type": "error",
     "traceback": [
      "\u001b[0;31m---------------------------------------------------------------------------\u001b[0m",
      "\u001b[0;31mRuntimeError\u001b[0m                              Traceback (most recent call last)",
      "\u001b[0;32m<ipython-input-16-617965056ac0>\u001b[0m in \u001b[0;36m<module>\u001b[0;34m()\u001b[0m\n\u001b[0;32m----> 1\u001b[0;31m \u001b[0mout\u001b[0m\u001b[0;34m.\u001b[0m\u001b[0mbackward\u001b[0m\u001b[0;34m(\u001b[0m\u001b[0;34m)\u001b[0m\u001b[0;34m\u001b[0m\u001b[0m\n\u001b[0m",
      "\u001b[0;32m/home/ubuntu/anaconda3/envs/pytorch_p27/lib/python2.7/site-packages/torch/tensor.pyc\u001b[0m in \u001b[0;36mbackward\u001b[0;34m(self, gradient, retain_graph, create_graph)\u001b[0m\n\u001b[1;32m     91\u001b[0m                 \u001b[0mproducts\u001b[0m\u001b[0;34m.\u001b[0m \u001b[0mDefaults\u001b[0m \u001b[0mto\u001b[0m \u001b[0;34m`\u001b[0m\u001b[0;34m`\u001b[0m\u001b[0mFalse\u001b[0m\u001b[0;34m`\u001b[0m\u001b[0;34m`\u001b[0m\u001b[0;34m.\u001b[0m\u001b[0;34m\u001b[0m\u001b[0m\n\u001b[1;32m     92\u001b[0m         \"\"\"\n\u001b[0;32m---> 93\u001b[0;31m         \u001b[0mtorch\u001b[0m\u001b[0;34m.\u001b[0m\u001b[0mautograd\u001b[0m\u001b[0;34m.\u001b[0m\u001b[0mbackward\u001b[0m\u001b[0;34m(\u001b[0m\u001b[0mself\u001b[0m\u001b[0;34m,\u001b[0m \u001b[0mgradient\u001b[0m\u001b[0;34m,\u001b[0m \u001b[0mretain_graph\u001b[0m\u001b[0;34m,\u001b[0m \u001b[0mcreate_graph\u001b[0m\u001b[0;34m)\u001b[0m\u001b[0;34m\u001b[0m\u001b[0m\n\u001b[0m\u001b[1;32m     94\u001b[0m \u001b[0;34m\u001b[0m\u001b[0m\n\u001b[1;32m     95\u001b[0m     \u001b[0;32mdef\u001b[0m \u001b[0mregister_hook\u001b[0m\u001b[0;34m(\u001b[0m\u001b[0mself\u001b[0m\u001b[0;34m,\u001b[0m \u001b[0mhook\u001b[0m\u001b[0;34m)\u001b[0m\u001b[0;34m:\u001b[0m\u001b[0;34m\u001b[0m\u001b[0m\n",
      "\u001b[0;32m/home/ubuntu/anaconda3/envs/pytorch_p27/lib/python2.7/site-packages/torch/autograd/__init__.pyc\u001b[0m in \u001b[0;36mbackward\u001b[0;34m(tensors, grad_tensors, retain_graph, create_graph, grad_variables)\u001b[0m\n\u001b[1;32m     87\u001b[0m     Variable._execution_engine.run_backward(\n\u001b[1;32m     88\u001b[0m         \u001b[0mtensors\u001b[0m\u001b[0;34m,\u001b[0m \u001b[0mgrad_tensors\u001b[0m\u001b[0;34m,\u001b[0m \u001b[0mretain_graph\u001b[0m\u001b[0;34m,\u001b[0m \u001b[0mcreate_graph\u001b[0m\u001b[0;34m,\u001b[0m\u001b[0;34m\u001b[0m\u001b[0m\n\u001b[0;32m---> 89\u001b[0;31m         allow_unreachable=True)  # allow_unreachable flag\n\u001b[0m\u001b[1;32m     90\u001b[0m \u001b[0;34m\u001b[0m\u001b[0m\n\u001b[1;32m     91\u001b[0m \u001b[0;34m\u001b[0m\u001b[0m\n",
      "\u001b[0;31mRuntimeError\u001b[0m: Trying to backward through the graph a second time, but the buffers have already been freed. Specify retain_graph=True when calling backward the first time."
     ]
    }
   ],
   "source": [
    "out.backward()"
   ]
  },
  {
   "cell_type": "markdown",
   "metadata": {},
   "source": [
    "print gradients d(out)/dx\n",
    "\n",
    "\n"
   ]
  },
  {
   "cell_type": "code",
   "execution_count": 17,
   "metadata": {
    "collapsed": false
   },
   "outputs": [
    {
     "name": "stdout",
     "output_type": "stream",
     "text": [
      "tensor([[ 4.5000,  4.5000],\n",
      "        [ 4.5000,  4.5000]])\n"
     ]
    }
   ],
   "source": [
    "print(x.grad)"
   ]
  },
  {
   "cell_type": "markdown",
   "metadata": {},
   "source": [
    "You should have got a matrix of ``4.5``. Let’s call the ``out``\n",
    "*Tensor* “$o$”.\n",
    "We have that $o = \\frac{1}{4}\\sum_i z_i$,\n",
    "$z_i = 3(x_i+2)^2$ and $z_i\\bigr\\rvert_{x_i=1} = 27$.\n",
    "Therefore,\n",
    "$\\frac{\\partial o}{\\partial x_i} = \\frac{3}{2}(x_i+2)$, hence\n",
    "$\\frac{\\partial o}{\\partial x_i}\\bigr\\rvert_{x_i=1} = \\frac{9}{2} = 4.5$.\n",
    "\n"
   ]
  },
  {
   "cell_type": "markdown",
   "metadata": {},
   "source": [
    "<hr>\n",
    "Another simple example\n",
    "$L=\\sum_{i=0}^4 a_i^2$\n",
    "\n",
    "$\\frac{dL}{d\\vec{\\,a}}=grad(L)=2\\vec{\\,a}$"
   ]
  },
  {
   "cell_type": "code",
   "execution_count": 18,
   "metadata": {},
   "outputs": [
    {
     "name": "stdout",
     "output_type": "stream",
     "text": [
      "tensor(55.)\n",
      "tensor([  2.,   4.,   6.,   8.,  10.])\n"
     ]
    }
   ],
   "source": [
    "a=torch.tensor([1.,2.,3.,4.,5.],requires_grad=True)\n",
    "L=torch.sum(a*a) \n",
    "L.backward()\n",
    "print L\n",
    "print a.grad"
   ]
  },
  {
   "cell_type": "markdown",
   "metadata": {},
   "source": [
    "<hr>\n",
    "You can do many crazy things with autograd!\n",
    "\n",
    "What you run is what you differentiate.\n",
    "\n"
   ]
  },
  {
   "cell_type": "code",
   "execution_count": 25,
   "metadata": {
    "collapsed": false
   },
   "outputs": [
    {
     "name": "stdout",
     "output_type": "stream",
     "text": [
      "tensor([ 1.4525,  0.7458,  0.4350])\n",
      "tensor([ 5.8100,  2.9832,  1.7401])\n",
      "tensor([ 11.6201,   5.9663,   3.4803])\n",
      "tensor([ 23.2402,  11.9326,   6.9605])\n",
      "tensor([ 46.4803,  23.8652,  13.9211])\n",
      "tensor([ 92.9606,  47.7304,  27.8422])\n",
      "tensor([ 185.9212,   95.4608,   55.6844])\n",
      "tensor([ 371.8424,  190.9216,  111.3687])\n",
      "tensor([ 743.6848,  381.8432,  222.7374])\n",
      "tensor([ 1487.3696,   763.6865,   445.4749])\n",
      "tensor(1730.2986)\n"
     ]
    },
    {
     "data": {
      "image/svg+xml": [
       "<?xml version=\"1.0\" encoding=\"UTF-8\" standalone=\"no\"?>\n",
       "<!DOCTYPE svg PUBLIC \"-//W3C//DTD SVG 1.1//EN\"\n",
       " \"http://www.w3.org/Graphics/SVG/1.1/DTD/svg11.dtd\">\n",
       "<!-- Generated by graphviz version 2.38.0 (20140413.2041)\n",
       " -->\n",
       "<!-- Title: %3 Pages: 1 -->\n",
       "<svg width=\"107pt\" height=\"670pt\"\n",
       " viewBox=\"0.00 0.00 107.00 670.00\" xmlns=\"http://www.w3.org/2000/svg\" xmlns:xlink=\"http://www.w3.org/1999/xlink\">\n",
       "<g id=\"graph0\" class=\"graph\" transform=\"scale(1 1) rotate(0) translate(4 666)\">\n",
       "<title>%3</title>\n",
       "<polygon fill=\"white\" stroke=\"none\" points=\"-4,4 -4,-666 103,-666 103,4 -4,4\"/>\n",
       "<!-- 140711550790352 -->\n",
       "<g id=\"node1\" class=\"node\"><title>140711550790352</title>\n",
       "<polygon fill=\"#caff70\" stroke=\"black\" points=\"99,-21 0,-21 0,-0 99,-0 99,-21\"/>\n",
       "<text text-anchor=\"middle\" x=\"49.5\" y=\"-7.4\" font-family=\"Times,serif\" font-size=\"12.00\">NormBackward0</text>\n",
       "</g>\n",
       "<!-- 140711550790480 -->\n",
       "<g id=\"node2\" class=\"node\"><title>140711550790480</title>\n",
       "<polygon fill=\"lightgrey\" stroke=\"black\" points=\"95,-78 4,-78 4,-57 95,-57 95,-78\"/>\n",
       "<text text-anchor=\"middle\" x=\"49.5\" y=\"-64.4\" font-family=\"Times,serif\" font-size=\"12.00\">MulBackward0</text>\n",
       "</g>\n",
       "<!-- 140711550790480&#45;&gt;140711550790352 -->\n",
       "<g id=\"edge1\" class=\"edge\"><title>140711550790480&#45;&gt;140711550790352</title>\n",
       "<path fill=\"none\" stroke=\"black\" d=\"M49.5,-56.9197C49.5,-49.9083 49.5,-40.1442 49.5,-31.4652\"/>\n",
       "<polygon fill=\"black\" stroke=\"black\" points=\"53.0001,-31.3408 49.5,-21.3408 46.0001,-31.3409 53.0001,-31.3408\"/>\n",
       "</g>\n",
       "<!-- 140711550791312 -->\n",
       "<g id=\"node3\" class=\"node\"><title>140711550791312</title>\n",
       "<polygon fill=\"lightgrey\" stroke=\"black\" points=\"95,-135 4,-135 4,-114 95,-114 95,-135\"/>\n",
       "<text text-anchor=\"middle\" x=\"49.5\" y=\"-121.4\" font-family=\"Times,serif\" font-size=\"12.00\">MulBackward0</text>\n",
       "</g>\n",
       "<!-- 140711550791312&#45;&gt;140711550790480 -->\n",
       "<g id=\"edge2\" class=\"edge\"><title>140711550791312&#45;&gt;140711550790480</title>\n",
       "<path fill=\"none\" stroke=\"black\" d=\"M49.5,-113.92C49.5,-106.908 49.5,-97.1442 49.5,-88.4652\"/>\n",
       "<polygon fill=\"black\" stroke=\"black\" points=\"53.0001,-88.3408 49.5,-78.3408 46.0001,-88.3409 53.0001,-88.3408\"/>\n",
       "</g>\n",
       "<!-- 140711550791504 -->\n",
       "<g id=\"node4\" class=\"node\"><title>140711550791504</title>\n",
       "<polygon fill=\"lightgrey\" stroke=\"black\" points=\"95,-192 4,-192 4,-171 95,-171 95,-192\"/>\n",
       "<text text-anchor=\"middle\" x=\"49.5\" y=\"-178.4\" font-family=\"Times,serif\" font-size=\"12.00\">MulBackward0</text>\n",
       "</g>\n",
       "<!-- 140711550791504&#45;&gt;140711550791312 -->\n",
       "<g id=\"edge3\" class=\"edge\"><title>140711550791504&#45;&gt;140711550791312</title>\n",
       "<path fill=\"none\" stroke=\"black\" d=\"M49.5,-170.92C49.5,-163.908 49.5,-154.144 49.5,-145.465\"/>\n",
       "<polygon fill=\"black\" stroke=\"black\" points=\"53.0001,-145.341 49.5,-135.341 46.0001,-145.341 53.0001,-145.341\"/>\n",
       "</g>\n",
       "<!-- 140711550791632 -->\n",
       "<g id=\"node5\" class=\"node\"><title>140711550791632</title>\n",
       "<polygon fill=\"lightgrey\" stroke=\"black\" points=\"95,-249 4,-249 4,-228 95,-228 95,-249\"/>\n",
       "<text text-anchor=\"middle\" x=\"49.5\" y=\"-235.4\" font-family=\"Times,serif\" font-size=\"12.00\">MulBackward0</text>\n",
       "</g>\n",
       "<!-- 140711550791632&#45;&gt;140711550791504 -->\n",
       "<g id=\"edge4\" class=\"edge\"><title>140711550791632&#45;&gt;140711550791504</title>\n",
       "<path fill=\"none\" stroke=\"black\" d=\"M49.5,-227.92C49.5,-220.908 49.5,-211.144 49.5,-202.465\"/>\n",
       "<polygon fill=\"black\" stroke=\"black\" points=\"53.0001,-202.341 49.5,-192.341 46.0001,-202.341 53.0001,-202.341\"/>\n",
       "</g>\n",
       "<!-- 140711568256848 -->\n",
       "<g id=\"node6\" class=\"node\"><title>140711568256848</title>\n",
       "<polygon fill=\"lightgrey\" stroke=\"black\" points=\"95,-306 4,-306 4,-285 95,-285 95,-306\"/>\n",
       "<text text-anchor=\"middle\" x=\"49.5\" y=\"-292.4\" font-family=\"Times,serif\" font-size=\"12.00\">MulBackward0</text>\n",
       "</g>\n",
       "<!-- 140711568256848&#45;&gt;140711550791632 -->\n",
       "<g id=\"edge5\" class=\"edge\"><title>140711568256848&#45;&gt;140711550791632</title>\n",
       "<path fill=\"none\" stroke=\"black\" d=\"M49.5,-284.92C49.5,-277.908 49.5,-268.144 49.5,-259.465\"/>\n",
       "<polygon fill=\"black\" stroke=\"black\" points=\"53.0001,-259.341 49.5,-249.341 46.0001,-259.341 53.0001,-259.341\"/>\n",
       "</g>\n",
       "<!-- 140711568256528 -->\n",
       "<g id=\"node7\" class=\"node\"><title>140711568256528</title>\n",
       "<polygon fill=\"lightgrey\" stroke=\"black\" points=\"95,-363 4,-363 4,-342 95,-342 95,-363\"/>\n",
       "<text text-anchor=\"middle\" x=\"49.5\" y=\"-349.4\" font-family=\"Times,serif\" font-size=\"12.00\">MulBackward0</text>\n",
       "</g>\n",
       "<!-- 140711568256528&#45;&gt;140711568256848 -->\n",
       "<g id=\"edge6\" class=\"edge\"><title>140711568256528&#45;&gt;140711568256848</title>\n",
       "<path fill=\"none\" stroke=\"black\" d=\"M49.5,-341.92C49.5,-334.908 49.5,-325.144 49.5,-316.465\"/>\n",
       "<polygon fill=\"black\" stroke=\"black\" points=\"53.0001,-316.341 49.5,-306.341 46.0001,-316.341 53.0001,-316.341\"/>\n",
       "</g>\n",
       "<!-- 140711568256336 -->\n",
       "<g id=\"node8\" class=\"node\"><title>140711568256336</title>\n",
       "<polygon fill=\"lightgrey\" stroke=\"black\" points=\"95,-420 4,-420 4,-399 95,-399 95,-420\"/>\n",
       "<text text-anchor=\"middle\" x=\"49.5\" y=\"-406.4\" font-family=\"Times,serif\" font-size=\"12.00\">MulBackward0</text>\n",
       "</g>\n",
       "<!-- 140711568256336&#45;&gt;140711568256528 -->\n",
       "<g id=\"edge7\" class=\"edge\"><title>140711568256336&#45;&gt;140711568256528</title>\n",
       "<path fill=\"none\" stroke=\"black\" d=\"M49.5,-398.92C49.5,-391.908 49.5,-382.144 49.5,-373.465\"/>\n",
       "<polygon fill=\"black\" stroke=\"black\" points=\"53.0001,-373.341 49.5,-363.341 46.0001,-373.341 53.0001,-373.341\"/>\n",
       "</g>\n",
       "<!-- 140711568256592 -->\n",
       "<g id=\"node9\" class=\"node\"><title>140711568256592</title>\n",
       "<polygon fill=\"lightgrey\" stroke=\"black\" points=\"95,-477 4,-477 4,-456 95,-456 95,-477\"/>\n",
       "<text text-anchor=\"middle\" x=\"49.5\" y=\"-463.4\" font-family=\"Times,serif\" font-size=\"12.00\">MulBackward0</text>\n",
       "</g>\n",
       "<!-- 140711568256592&#45;&gt;140711568256336 -->\n",
       "<g id=\"edge8\" class=\"edge\"><title>140711568256592&#45;&gt;140711568256336</title>\n",
       "<path fill=\"none\" stroke=\"black\" d=\"M49.5,-455.92C49.5,-448.908 49.5,-439.144 49.5,-430.465\"/>\n",
       "<polygon fill=\"black\" stroke=\"black\" points=\"53.0001,-430.341 49.5,-420.341 46.0001,-430.341 53.0001,-430.341\"/>\n",
       "</g>\n",
       "<!-- 140711568256080 -->\n",
       "<g id=\"node10\" class=\"node\"><title>140711568256080</title>\n",
       "<polygon fill=\"lightgrey\" stroke=\"black\" points=\"95,-534 4,-534 4,-513 95,-513 95,-534\"/>\n",
       "<text text-anchor=\"middle\" x=\"49.5\" y=\"-520.4\" font-family=\"Times,serif\" font-size=\"12.00\">MulBackward0</text>\n",
       "</g>\n",
       "<!-- 140711568256080&#45;&gt;140711568256592 -->\n",
       "<g id=\"edge9\" class=\"edge\"><title>140711568256080&#45;&gt;140711568256592</title>\n",
       "<path fill=\"none\" stroke=\"black\" d=\"M49.5,-512.92C49.5,-505.908 49.5,-496.144 49.5,-487.465\"/>\n",
       "<polygon fill=\"black\" stroke=\"black\" points=\"53.0001,-487.341 49.5,-477.341 46.0001,-487.341 53.0001,-487.341\"/>\n",
       "</g>\n",
       "<!-- 140711550840976 -->\n",
       "<g id=\"node11\" class=\"node\"><title>140711550840976</title>\n",
       "<polygon fill=\"lightgrey\" stroke=\"black\" points=\"95,-591 4,-591 4,-570 95,-570 95,-591\"/>\n",
       "<text text-anchor=\"middle\" x=\"49.5\" y=\"-577.4\" font-family=\"Times,serif\" font-size=\"12.00\">MulBackward0</text>\n",
       "</g>\n",
       "<!-- 140711550840976&#45;&gt;140711568256080 -->\n",
       "<g id=\"edge10\" class=\"edge\"><title>140711550840976&#45;&gt;140711568256080</title>\n",
       "<path fill=\"none\" stroke=\"black\" d=\"M49.5,-569.92C49.5,-562.908 49.5,-553.144 49.5,-544.465\"/>\n",
       "<polygon fill=\"black\" stroke=\"black\" points=\"53.0001,-544.341 49.5,-534.341 46.0001,-544.341 53.0001,-544.341\"/>\n",
       "</g>\n",
       "<!-- 140711550841104 -->\n",
       "<g id=\"node12\" class=\"node\"><title>140711550841104</title>\n",
       "<polygon fill=\"lightblue\" stroke=\"black\" points=\"76.5,-662 22.5,-662 22.5,-627 76.5,-627 76.5,-662\"/>\n",
       "<text text-anchor=\"middle\" x=\"49.5\" y=\"-634.4\" font-family=\"Times,serif\" font-size=\"12.00\"> (3)</text>\n",
       "</g>\n",
       "<!-- 140711550841104&#45;&gt;140711550840976 -->\n",
       "<g id=\"edge11\" class=\"edge\"><title>140711550841104&#45;&gt;140711550840976</title>\n",
       "<path fill=\"none\" stroke=\"black\" d=\"M49.5,-626.885C49.5,-618.994 49.5,-609.505 49.5,-601.248\"/>\n",
       "<polygon fill=\"black\" stroke=\"black\" points=\"53.0001,-601.018 49.5,-591.018 46.0001,-601.018 53.0001,-601.018\"/>\n",
       "</g>\n",
       "</g>\n",
       "</svg>\n"
      ],
      "text/plain": [
       "<graphviz.dot.Digraph at 0x7ff9f6002dd0>"
      ]
     },
     "execution_count": 25,
     "metadata": {},
     "output_type": "execute_result"
    }
   ],
   "source": [
    "x = torch.randn(3, requires_grad=True)\n",
    "print x\n",
    "y = x * 2\n",
    "while y.data.norm() < 1000:\n",
    "    y = y * 2\n",
    "    print y\n",
    "y=y.norm()\n",
    "print(y)\n",
    "make_dot(y)"
   ]
  },
  {
   "cell_type": "code",
   "execution_count": 20,
   "metadata": {
    "collapsed": false
   },
   "outputs": [
    {
     "name": "stdout",
     "output_type": "stream",
     "text": [
      "tensor([ 476.4026,  102.6742, -156.9793])\n"
     ]
    }
   ],
   "source": [
    "y.backward()\n",
    "print(x.grad)"
   ]
  },
  {
   "cell_type": "markdown",
   "metadata": {},
   "source": [
    "You can also stop autograd from tracking history on Tensors\n",
    "with ``.requires_grad``=True by wrapping the code block in\n",
    "``with torch.no_grad():``\n",
    "\n"
   ]
  },
  {
   "cell_type": "code",
   "execution_count": 21,
   "metadata": {
    "collapsed": false
   },
   "outputs": [
    {
     "name": "stdout",
     "output_type": "stream",
     "text": [
      "True\n",
      "True\n",
      "False\n"
     ]
    }
   ],
   "source": [
    "print(x.requires_grad)\n",
    "print((x ** 2).requires_grad)\n",
    "\n",
    "with torch.no_grad():\n",
    "\tprint((x ** 2).requires_grad)"
   ]
  },
  {
   "cell_type": "markdown",
   "metadata": {},
   "source": [
    "**Read Later:**\n",
    "\n",
    "Documentation of ``autograd`` and ``Function`` is at\n",
    "http://pytorch.org/docs/autograd\n",
    "\n",
    "The backward argument can be used to select which part of the of the final object is considered"
   ]
  },
  {
   "cell_type": "code",
   "execution_count": 27,
   "metadata": {},
   "outputs": [
    {
     "data": {
      "text/plain": [
       "\u001b[0;31mDocstring:\u001b[0m\n",
       "mm(mat1, mat2, out=None) -> Tensor\n",
       "\n",
       "Performs a matrix multiplication of the matrices :attr:`mat1` and :attr:`mat2`.\n",
       "\n",
       "If :attr:`mat1` is a :math:`(n \\times m)` tensor, :attr:`mat2` is a\n",
       ":math:`(m \\times p)` tensor, :attr:`out` will be a :math:`(n \\times p)` tensor.\n",
       "\n",
       ".. note:: This function does not :ref:`broadcast <broadcasting-semantics>`.\n",
       "          For broadcasting matrix products, see :func:`torch.matmul`.\n",
       "\n",
       "Args:\n",
       "    mat1 (Tensor): the first matrix to be multiplied\n",
       "    mat2 (Tensor): the second matrix to be multiplied\n",
       "    out (Tensor, optional): the output tensor\n",
       "\n",
       "Example::\n",
       "\n",
       "    >>> mat1 = torch.randn(2, 3)\n",
       "    >>> mat2 = torch.randn(3, 3)\n",
       "    >>> torch.mm(mat1, mat2)\n",
       "    tensor([[ 0.4851,  0.5037, -0.3633],\n",
       "            [-0.0760, -3.6705,  2.4784]])\n",
       "\u001b[0;31mType:\u001b[0m      builtin_function_or_method\n"
      ]
     },
     "metadata": {},
     "output_type": "display_data"
    }
   ],
   "source": [
    "?torch.mm"
   ]
  },
  {
   "cell_type": "code",
   "execution_count": 28,
   "metadata": {},
   "outputs": [
    {
     "name": "stdout",
     "output_type": "stream",
     "text": [
      "A tensor([[ 1.,  2.],\n",
      "        [ 3.,  4.]])\n",
      "B tensor([[  7.,  10.],\n",
      "        [ 15.,  22.]])\n",
      "tensor([[ 2.,  3.],\n",
      "        [ 2.,  0.]])\n",
      "\n",
      "A tensor([[ 1.,  2.],\n",
      "        [ 3.,  4.]])\n",
      "B tensor([[  7.,  10.],\n",
      "        [ 15.,  22.]])\n",
      "tensor([[ 2.,  3.],\n",
      "        [ 2.,  0.]])\n"
     ]
    },
    {
     "ename": "RuntimeError",
     "evalue": "grad can be implicitly created only for scalar outputs",
     "output_type": "error",
     "traceback": [
      "\u001b[0;31m---------------------------------------------------------------------------\u001b[0m",
      "\u001b[0;31mRuntimeError\u001b[0m                              Traceback (most recent call last)",
      "\u001b[0;32m<ipython-input-28-2d9a5d41cde3>\u001b[0m in \u001b[0;36m<module>\u001b[0;34m()\u001b[0m\n\u001b[1;32m     19\u001b[0m \u001b[0ml\u001b[0m\u001b[0;34m.\u001b[0m\u001b[0mbackward\u001b[0m\u001b[0;34m(\u001b[0m\u001b[0mtorch\u001b[0m\u001b[0;34m.\u001b[0m\u001b[0mtensor\u001b[0m\u001b[0;34m(\u001b[0m\u001b[0;34m[\u001b[0m\u001b[0;34m[\u001b[0m\u001b[0;36m1.\u001b[0m\u001b[0;34m,\u001b[0m\u001b[0;36m0\u001b[0m\u001b[0;34m]\u001b[0m\u001b[0;34m,\u001b[0m\u001b[0;34m[\u001b[0m\u001b[0;36m0\u001b[0m\u001b[0;34m,\u001b[0m\u001b[0;36m0\u001b[0m\u001b[0;34m]\u001b[0m\u001b[0;34m]\u001b[0m\u001b[0;34m)\u001b[0m\u001b[0;34m)\u001b[0m\u001b[0;34m\u001b[0m\u001b[0m\n\u001b[1;32m     20\u001b[0m \u001b[0;32mprint\u001b[0m \u001b[0mA\u001b[0m\u001b[0;34m.\u001b[0m\u001b[0mgrad\u001b[0m\u001b[0;34m\u001b[0m\u001b[0m\n\u001b[0;32m---> 21\u001b[0;31m \u001b[0;32mprint\u001b[0m \u001b[0ml\u001b[0m\u001b[0;34m.\u001b[0m\u001b[0mbackward\u001b[0m\u001b[0;34m(\u001b[0m\u001b[0;34m)\u001b[0m\u001b[0;34m\u001b[0m\u001b[0m\n\u001b[0m",
      "\u001b[0;32m/home/ubuntu/anaconda3/envs/pytorch_p27/lib/python2.7/site-packages/torch/tensor.pyc\u001b[0m in \u001b[0;36mbackward\u001b[0;34m(self, gradient, retain_graph, create_graph)\u001b[0m\n\u001b[1;32m     91\u001b[0m                 \u001b[0mproducts\u001b[0m\u001b[0;34m.\u001b[0m \u001b[0mDefaults\u001b[0m \u001b[0mto\u001b[0m \u001b[0;34m`\u001b[0m\u001b[0;34m`\u001b[0m\u001b[0mFalse\u001b[0m\u001b[0;34m`\u001b[0m\u001b[0;34m`\u001b[0m\u001b[0;34m.\u001b[0m\u001b[0;34m\u001b[0m\u001b[0m\n\u001b[1;32m     92\u001b[0m         \"\"\"\n\u001b[0;32m---> 93\u001b[0;31m         \u001b[0mtorch\u001b[0m\u001b[0;34m.\u001b[0m\u001b[0mautograd\u001b[0m\u001b[0;34m.\u001b[0m\u001b[0mbackward\u001b[0m\u001b[0;34m(\u001b[0m\u001b[0mself\u001b[0m\u001b[0;34m,\u001b[0m \u001b[0mgradient\u001b[0m\u001b[0;34m,\u001b[0m \u001b[0mretain_graph\u001b[0m\u001b[0;34m,\u001b[0m \u001b[0mcreate_graph\u001b[0m\u001b[0;34m)\u001b[0m\u001b[0;34m\u001b[0m\u001b[0m\n\u001b[0m\u001b[1;32m     94\u001b[0m \u001b[0;34m\u001b[0m\u001b[0m\n\u001b[1;32m     95\u001b[0m     \u001b[0;32mdef\u001b[0m \u001b[0mregister_hook\u001b[0m\u001b[0;34m(\u001b[0m\u001b[0mself\u001b[0m\u001b[0;34m,\u001b[0m \u001b[0mhook\u001b[0m\u001b[0;34m)\u001b[0m\u001b[0;34m:\u001b[0m\u001b[0;34m\u001b[0m\u001b[0m\n",
      "\u001b[0;32m/home/ubuntu/anaconda3/envs/pytorch_p27/lib/python2.7/site-packages/torch/autograd/__init__.pyc\u001b[0m in \u001b[0;36mbackward\u001b[0;34m(tensors, grad_tensors, retain_graph, create_graph, grad_variables)\u001b[0m\n\u001b[1;32m     81\u001b[0m         \u001b[0mgrad_tensors\u001b[0m \u001b[0;34m=\u001b[0m \u001b[0mlist\u001b[0m\u001b[0;34m(\u001b[0m\u001b[0mgrad_tensors\u001b[0m\u001b[0;34m)\u001b[0m\u001b[0;34m\u001b[0m\u001b[0m\n\u001b[1;32m     82\u001b[0m \u001b[0;34m\u001b[0m\u001b[0m\n\u001b[0;32m---> 83\u001b[0;31m     \u001b[0mgrad_tensors\u001b[0m \u001b[0;34m=\u001b[0m \u001b[0m_make_grads\u001b[0m\u001b[0;34m(\u001b[0m\u001b[0mtensors\u001b[0m\u001b[0;34m,\u001b[0m \u001b[0mgrad_tensors\u001b[0m\u001b[0;34m)\u001b[0m\u001b[0;34m\u001b[0m\u001b[0m\n\u001b[0m\u001b[1;32m     84\u001b[0m     \u001b[0;32mif\u001b[0m \u001b[0mretain_graph\u001b[0m \u001b[0;32mis\u001b[0m \u001b[0mNone\u001b[0m\u001b[0;34m:\u001b[0m\u001b[0;34m\u001b[0m\u001b[0m\n\u001b[1;32m     85\u001b[0m         \u001b[0mretain_graph\u001b[0m \u001b[0;34m=\u001b[0m \u001b[0mcreate_graph\u001b[0m\u001b[0;34m\u001b[0m\u001b[0m\n",
      "\u001b[0;32m/home/ubuntu/anaconda3/envs/pytorch_p27/lib/python2.7/site-packages/torch/autograd/__init__.pyc\u001b[0m in \u001b[0;36m_make_grads\u001b[0;34m(outputs, grads)\u001b[0m\n\u001b[1;32m     25\u001b[0m             \u001b[0;32mif\u001b[0m \u001b[0mout\u001b[0m\u001b[0;34m.\u001b[0m\u001b[0mrequires_grad\u001b[0m\u001b[0;34m:\u001b[0m\u001b[0;34m\u001b[0m\u001b[0m\n\u001b[1;32m     26\u001b[0m                 \u001b[0;32mif\u001b[0m \u001b[0mout\u001b[0m\u001b[0;34m.\u001b[0m\u001b[0mnumel\u001b[0m\u001b[0;34m(\u001b[0m\u001b[0;34m)\u001b[0m \u001b[0;34m!=\u001b[0m \u001b[0;36m1\u001b[0m\u001b[0;34m:\u001b[0m\u001b[0;34m\u001b[0m\u001b[0m\n\u001b[0;32m---> 27\u001b[0;31m                     \u001b[0;32mraise\u001b[0m \u001b[0mRuntimeError\u001b[0m\u001b[0;34m(\u001b[0m\u001b[0;34m\"grad can be implicitly created only for scalar outputs\"\u001b[0m\u001b[0;34m)\u001b[0m\u001b[0;34m\u001b[0m\u001b[0m\n\u001b[0m\u001b[1;32m     28\u001b[0m                 \u001b[0mnew_grads\u001b[0m\u001b[0;34m.\u001b[0m\u001b[0mappend\u001b[0m\u001b[0;34m(\u001b[0m\u001b[0mtorch\u001b[0m\u001b[0;34m.\u001b[0m\u001b[0mones_like\u001b[0m\u001b[0;34m(\u001b[0m\u001b[0mout\u001b[0m\u001b[0;34m)\u001b[0m\u001b[0;34m)\u001b[0m\u001b[0;34m\u001b[0m\u001b[0m\n\u001b[1;32m     29\u001b[0m             \u001b[0;32melse\u001b[0m\u001b[0;34m:\u001b[0m\u001b[0;34m\u001b[0m\u001b[0m\n",
      "\u001b[0;31mRuntimeError\u001b[0m: grad can be implicitly created only for scalar outputs"
     ]
    }
   ],
   "source": [
    "A=torch.tensor([[1.,2.],[3.,4.]],requires_grad=True)\n",
    "print 'A',A\n",
    "B=torch.mm(A,A)\n",
    "print 'B',B\n",
    "l=B[0,0]\n",
    "l.backward() # this is unique, l is 1-dim we do not need an argument\n",
    "#B[0,0] depends on A[0,0],A[1,0] and A[0,1] but not on A[1,1]\n",
    "#therefor A.grad[1,1] is zero\n",
    "print A.grad\n",
    "# the same but for l.shape=(2,2)\n",
    "A=torch.tensor([[1.,2.],[3.,4.]],requires_grad=True)\n",
    "print '\\nA',A\n",
    "B=torch.mm(A,A)\n",
    "print 'B',B\n",
    "l=B\n",
    "# now l is not a scalar but a 2x2 tensor\n",
    "# the chain of derivatives is multiplied with the backward argument\n",
    "# This allows to combine derivative calculations or here to select some gradient \n",
    "l.backward(torch.tensor([[1.,0],[0,0]])) \n",
    "print A.grad\n",
    "print l.backward()"
   ]
  },
  {
   "cell_type": "markdown",
   "metadata": {},
   "source": [
    "### We can also get higher derivatives\n",
    "\n",
    "torch.autograd.grad can be used to calculate derivatives of functions and can be used to define second or higher derivatives"
   ]
  },
  {
   "cell_type": "code",
   "execution_count": 52,
   "metadata": {},
   "outputs": [
    {
     "name": "stdout",
     "output_type": "stream",
     "text": [
      "10000 loops, best of 3: 84.4 µs per loop\n"
     ]
    }
   ],
   "source": [
    "%%timeit\n",
    "x = torch.tensor(2., requires_grad=True)\n",
    "y = x * x\n",
    "z = x * y\n",
    "#print z\n",
    "z.backward()\n",
    "# more precise\n",
    "#z.backward(torch.ones_like(x))\n",
    "#print x.grad\n",
    "x.grad"
   ]
  },
  {
   "cell_type": "code",
   "execution_count": 40,
   "metadata": {},
   "outputs": [
    {
     "name": "stdout",
     "output_type": "stream",
     "text": [
      "10000 loops, best of 3: 147 µs per loop\n"
     ]
    }
   ],
   "source": [
    "%%timeit\n",
    "# torch.autograd.grad for higher derivatives\n",
    "# a scalar\n",
    "x = torch.tensor(2., requires_grad=True)\n",
    "y=x**3\n",
    "# The following is now not working!\n",
    "# y.backward()\n",
    "#print 'x',x,'- x.grad',x.grad\n",
    "#print 'y',y\n",
    "#print '--- grad ---'\n",
    "# autograd.grad() can create graph as any other operation that can be passed by x.backward later\n",
    "a=torch.autograd.grad(outputs=y, inputs=x, create_graph=True)[0] # 3*x**2 returns a 1-dim list\n",
    "#print 'a',a\n",
    "#print 'x',x,'- x.grad',x.grad\n",
    "#not need x.grad.data.zero_()\n",
    "#print '--- backward ---'\n",
    "a.backward() # 2*3*x - x,grad is now second derivative\n",
    "#print 'x',x,'- x.grad',x.grad\n",
    "x.grad"
   ]
  },
  {
   "cell_type": "code",
   "execution_count": 42,
   "metadata": {},
   "outputs": [
    {
     "name": "stdout",
     "output_type": "stream",
     "text": [
      "x tensor(2.) - x.grad None\n",
      "y tensor(0.9640)\n",
      "--- grad ---\n",
      "a tensor(1.00000e-02 *\n",
      "       7.0651)\n",
      "x tensor(2.) - x.grad None\n",
      "--- backward ---\n",
      "x tensor(2.) - x.grad tensor(-0.1362) tensor(1.)\n"
     ]
    }
   ],
   "source": [
    "# torch.autograd.grad for higher derivatives\n",
    "# 1d now for tanh(x)\n",
    "x = torch.tensor(2., requires_grad=True)\n",
    "y=torch.tanh(x)\n",
    "print 'x',x,'- x.grad',x.grad\n",
    "print 'y',y\n",
    "print '--- grad ---'\n",
    "# create graph as any other operation that can be passed by x.backward later\n",
    "a=torch.autograd.grad(outputs=y, inputs=x, create_graph=True)[0] # 3*x**2 returns a 1-dim list\n",
    "print 'a',a\n",
    "print 'x',x,'- x.grad',x.grad\n",
    "#not need x.grad.data.zero_()\n",
    "print '--- backward ---'\n",
    "d=torch.ones_like(x)\n",
    "a.backward(d) # 2*3*x - x,grad is now second derivative\n",
    "print 'x',x,'- x.grad',x.grad,d"
   ]
  },
  {
   "cell_type": "code",
   "execution_count": 43,
   "metadata": {},
   "outputs": [],
   "source": [
    "import torch\n",
    "import numpy as np\n",
    "from matplotlib import pyplot as plt\n",
    "plt.style.use('dark_background')\n",
    "from torch.autograd import grad"
   ]
  },
  {
   "cell_type": "code",
   "execution_count": 47,
   "metadata": {},
   "outputs": [
    {
     "data": {
      "text/plain": [
       "[<matplotlib.lines.Line2D at 0x7ff9f5e4bbd0>]"
      ]
     },
     "execution_count": 47,
     "metadata": {},
     "output_type": "execute_result"
    },
    {
     "data": {
      "image/png": "[encoded data removed]",
      "text/plain": [
       "<Figure size 432x288 with 1 Axes>"
      ]
     },
     "metadata": {},
     "output_type": "display_data"
    }
   ],
   "source": [
    "# function and first derivative\n",
    "xrange=np.linspace(-3,3,100)\n",
    "x=torch.tensor(xrange,requires_grad=True)\n",
    "y=torch.tanh(x)\n",
    "y.backward(torch.ones_like(x))  # backward(x) screwed up\n",
    "plt.plot(xrange, y.detach().numpy())\n",
    "plt.plot(xrange, x.grad.numpy())"
   ]
  },
  {
   "cell_type": "code",
   "execution_count": 48,
   "metadata": {},
   "outputs": [
    {
     "data": {
      "text/plain": [
       "[<matplotlib.lines.Line2D at 0x7ff9f5d77fd0>]"
      ]
     },
     "execution_count": 48,
     "metadata": {},
     "output_type": "execute_result"
    },
    {
     "data": {
      "image/png": "[encoded data removed]",
      "text/plain": [
       "<Figure size 432x288 with 1 Axes>"
      ]
     },
     "metadata": {},
     "output_type": "display_data"
    }
   ],
   "source": [
    "# function and second derivative\n",
    "xrange=np.linspace(-3,3,100)\n",
    "x=torch.tensor(xrange,requires_grad=True)\n",
    "y=torch.tanh(x)\n",
    "# output f(x), input x, grad_outputs=defines shape\n",
    "# create graph for derivative calculation \n",
    "ox=torch.ones_like(x)\n",
    "a=torch.autograd.grad(outputs=y, inputs=x, \n",
    "                      grad_outputs=ox,\n",
    "                      create_graph=True)[0] # returns a 1-dim list\n",
    "y.backward(ox,retain_graph=True)\n",
    "plt.plot(xrange, y.detach().numpy())\n",
    "plt.plot(xrange, x.grad.numpy())\n",
    "x.grad.data.zero_()\n",
    "a.backward(torch.ones_like(x))\n",
    "plt.plot(xrange, x.grad.numpy())"
   ]
  },
  {
   "cell_type": "code",
   "execution_count": 49,
   "metadata": {},
   "outputs": [
    {
     "data": {
      "text/plain": [
       "[<matplotlib.lines.Line2D at 0x7ff9f5d05ed0>]"
      ]
     },
     "execution_count": 49,
     "metadata": {},
     "output_type": "execute_result"
    },
    {
     "data": {
      "image/png": "[encoded data removed]",
      "text/plain": [
       "<Figure size 432x288 with 1 Axes>"
      ]
     },
     "metadata": {},
     "output_type": "display_data"
    }
   ],
   "source": [
    "# function and third derivative\n",
    "xrange=np.linspace(-7,7,100)\n",
    "x=torch.tensor(xrange,requires_grad=True)\n",
    "y=torch.tanh(x)\n",
    "# output f(x), input x, grad_outputs=defines shape\n",
    "# create graph for derivative calculation \n",
    "ox=torch.ones_like(x) # derivative pattern\n",
    "a=torch.autograd.grad(outputs=y, inputs=x, \n",
    "                      grad_outputs=ox,\n",
    "                      create_graph=True)[0] # returns a 1-dim list\n",
    "b=torch.autograd.grad(outputs=a, inputs=x, \n",
    "                      grad_outputs=ox,\n",
    "                      create_graph=True)[0] # returns a 1-dim list\n",
    "y.backward(ox,retain_graph=True)\n",
    "plt.plot(xrange, y.detach().numpy())\n",
    "plt.plot(xrange, x.grad.numpy())\n",
    "x.grad.data.zero_()\n",
    "a.backward(ox,retain_graph=True)\n",
    "plt.plot(xrange, x.grad.numpy())\n",
    "x.grad.data.zero_()\n",
    "b.backward(torch.ones_like(x),retain_graph=True)\n",
    "plt.plot(xrange, x.grad.numpy())"
   ]
  },
  {
   "cell_type": "code",
   "execution_count": 53,
   "metadata": {},
   "outputs": [
    {
     "name": "stdout",
     "output_type": "stream",
     "text": [
      "x tensor(-2.) - x.grad None\n",
      "y tensor(-0.9640)\n",
      "--- grad ---\n",
      "a\n",
      "x tensor(-2.) - x.grad None\n",
      "--- backward ---\n",
      "x tensor(-2.) - x.grad tensor(0.1362)\n"
     ]
    },
    {
     "data": {
      "image/svg+xml": [
       "<?xml version=\"1.0\" encoding=\"UTF-8\" standalone=\"no\"?>\n",
       "<!DOCTYPE svg PUBLIC \"-//W3C//DTD SVG 1.1//EN\"\n",
       " \"http://www.w3.org/Graphics/SVG/1.1/DTD/svg11.dtd\">\n",
       "<!-- Generated by graphviz version 2.38.0 (20140413.2041)\n",
       " -->\n",
       "<!-- Title: %3 Pages: 1 -->\n",
       "<svg width=\"147pt\" height=\"157pt\"\n",
       " viewBox=\"0.00 0.00 147.00 157.00\" xmlns=\"http://www.w3.org/2000/svg\" xmlns:xlink=\"http://www.w3.org/1999/xlink\">\n",
       "<g id=\"graph0\" class=\"graph\" transform=\"scale(1 1) rotate(0) translate(4 153)\">\n",
       "<title>%3</title>\n",
       "<polygon fill=\"white\" stroke=\"none\" points=\"-4,4 -4,-153 143,-153 143,4 -4,4\"/>\n",
       "<!-- 140711548470800 -->\n",
       "<g id=\"node1\" class=\"node\"><title>140711548470800</title>\n",
       "<polygon fill=\"#caff70\" stroke=\"black\" points=\"139,-21 0,-21 0,-0 139,-0 139,-21\"/>\n",
       "<text text-anchor=\"middle\" x=\"69.5\" y=\"-7.4\" font-family=\"Times,serif\" font-size=\"12.00\">TanhBackwardBackward</text>\n",
       "</g>\n",
       "<!-- 140711550429840 -->\n",
       "<g id=\"node2\" class=\"node\"><title>140711550429840</title>\n",
       "<polygon fill=\"lightgrey\" stroke=\"black\" points=\"114.5,-78 24.5,-78 24.5,-57 114.5,-57 114.5,-78\"/>\n",
       "<text text-anchor=\"middle\" x=\"69.5\" y=\"-64.4\" font-family=\"Times,serif\" font-size=\"12.00\">TanhBackward</text>\n",
       "</g>\n",
       "<!-- 140711550429840&#45;&gt;140711548470800 -->\n",
       "<g id=\"edge1\" class=\"edge\"><title>140711550429840&#45;&gt;140711548470800</title>\n",
       "<path fill=\"none\" stroke=\"black\" d=\"M69.5,-56.9197C69.5,-49.9083 69.5,-40.1442 69.5,-31.4652\"/>\n",
       "<polygon fill=\"black\" stroke=\"black\" points=\"73.0001,-31.3408 69.5,-21.3408 66.0001,-31.3409 73.0001,-31.3408\"/>\n",
       "</g>\n",
       "<!-- 140711550429136 -->\n",
       "<g id=\"node3\" class=\"node\"><title>140711550429136</title>\n",
       "<polygon fill=\"lightblue\" stroke=\"black\" points=\"96.5,-149 42.5,-149 42.5,-114 96.5,-114 96.5,-149\"/>\n",
       "<text text-anchor=\"middle\" x=\"69.5\" y=\"-121.4\" font-family=\"Times,serif\" font-size=\"12.00\"> ()</text>\n",
       "</g>\n",
       "<!-- 140711550429136&#45;&gt;140711550429840 -->\n",
       "<g id=\"edge2\" class=\"edge\"><title>140711550429136&#45;&gt;140711550429840</title>\n",
       "<path fill=\"none\" stroke=\"black\" d=\"M69.5,-113.885C69.5,-105.994 69.5,-96.5046 69.5,-88.2477\"/>\n",
       "<polygon fill=\"black\" stroke=\"black\" points=\"73.0001,-88.0177 69.5,-78.0178 66.0001,-88.0178 73.0001,-88.0177\"/>\n",
       "</g>\n",
       "</g>\n",
       "</svg>\n"
      ],
      "text/plain": [
       "<graphviz.dot.Digraph at 0x7ff9f5e5a050>"
      ]
     },
     "execution_count": 53,
     "metadata": {},
     "output_type": "execute_result"
    }
   ],
   "source": [
    "# torch.autograd.grad for higher derivatives\n",
    "x = torch.tensor(-2., requires_grad=True)\n",
    "y = torch.tanh(x)\n",
    "print 'x',x,'- x.grad',x.grad\n",
    "print 'y',y\n",
    "print '--- grad ---'\n",
    "# create graph as any other operation that can be passed by x.backward later\n",
    "a=torch.autograd.grad(outputs=y, inputs=x, grad_outputs=torch.ones_like(x),create_graph=True)[0] # 3*x**2 returns a 1-dim list\n",
    "print 'a'\n",
    "print 'x',x,'- x.grad',x.grad\n",
    "#not need x.grad.data.zero_()\n",
    "print '--- backward ---'\n",
    "a.backward(torch.ones_like(x)) # 2*3*x - x,grad is now second derivative\n",
    "print 'x',x,'- x.grad',x.grad\n",
    "make_dot(a)"
   ]
  },
  {
   "cell_type": "code",
   "execution_count": null,
   "metadata": {},
   "outputs": [],
   "source": []
  }
 ],
 "metadata": {
  "kernelspec": {
   "display_name": "Environment (conda_pytorch_p27)",
   "language": "python",
   "name": "conda_pytorch_p27"
  },
  "language_info": {
   "codemirror_mode": {
    "name": "ipython",
    "version": 2
   },
   "file_extension": ".py",
   "mimetype": "text/x-python",
   "name": "python",
   "nbconvert_exporter": "python",
   "pygments_lexer": "ipython2",
   "version": "2.7.15"
  }
 },
 "nbformat": 4,
 "nbformat_minor": 2
}
